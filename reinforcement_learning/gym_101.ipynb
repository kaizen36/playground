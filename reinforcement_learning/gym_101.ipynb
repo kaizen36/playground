{
 "cells": [
  {
   "cell_type": "markdown",
   "metadata": {},
   "source": [
    "# OpenAI Gym\n",
    "\n",
    "https://github.com/openai/gym"
   ]
  },
  {
   "cell_type": "code",
   "execution_count": 1,
   "metadata": {
    "collapsed": true
   },
   "outputs": [],
   "source": [
    "import gym\n",
    "import numpy as np "
   ]
  },
  {
   "cell_type": "code",
   "execution_count": 2,
   "metadata": {
    "collapsed": true
   },
   "outputs": [],
   "source": [
    "import matplotlib.pyplot as plt\n",
    "%matplotlib inline"
   ]
  },
  {
   "cell_type": "markdown",
   "metadata": {},
   "source": [
    "## CartPole problem\n",
    "\n",
    "Full description: https://github.com/openai/gym/wiki/CartPole-v0\n",
    "\n",
    "Some aspects have been copied below."
   ]
  },
  {
   "cell_type": "code",
   "execution_count": 3,
   "metadata": {
    "collapsed": true
   },
   "outputs": [],
   "source": [
    "env = gym.make('CartPole-v0')"
   ]
  },
  {
   "cell_type": "code",
   "execution_count": 4,
   "metadata": {},
   "outputs": [
    {
     "data": {
      "text/plain": [
       "array([-0.00097546, -0.03697588,  0.04474633,  0.00688688])"
      ]
     },
     "execution_count": 4,
     "metadata": {},
     "output_type": "execute_result"
    }
   ],
   "source": [
    "# Go to start state\n",
    "env.reset()"
   ]
  },
  {
   "cell_type": "markdown",
   "metadata": {},
   "source": [
    "The state array has four variables corresponding to - \n",
    "#### Observation - Type: Box(4)\n",
    "\n",
    "Num | Observation | Min | Max\n",
    "---|---|---|---\n",
    "0 | Cart Position | -2.4 | 2.4\n",
    "1 | Cart Velocity | -Inf | Inf\n",
    "2 | Pole Angle | ~ -41.8&deg; | ~ 41.8&deg;\n",
    "3 | Pole Velocity At Tip | -Inf | Inf\n",
    "\n",
    "#### Actions - Type: Discrete(2)\n",
    "\n",
    "Num | Action\n",
    "--- | ---\n",
    "0 | Push cart to the left\n",
    "1 | Push cart to the right\n"
   ]
  },
  {
   "cell_type": "code",
   "execution_count": 5,
   "metadata": {},
   "outputs": [
    {
     "data": {
      "text/plain": [
       "Box(4,)"
      ]
     },
     "execution_count": 5,
     "metadata": {},
     "output_type": "execute_result"
    }
   ],
   "source": [
    "env.observation_space"
   ]
  },
  {
   "cell_type": "code",
   "execution_count": 6,
   "metadata": {},
   "outputs": [
    {
     "data": {
      "text/plain": [
       "Discrete(2)"
      ]
     },
     "execution_count": 6,
     "metadata": {},
     "output_type": "execute_result"
    }
   ],
   "source": [
    "env.action_space"
   ]
  },
  {
   "cell_type": "code",
   "execution_count": 7,
   "metadata": {},
   "outputs": [
    {
     "data": {
      "text/plain": [
       "0"
      ]
     },
     "execution_count": 7,
     "metadata": {},
     "output_type": "execute_result"
    }
   ],
   "source": [
    "# Generate a random action\n",
    "env.action_space.sample()"
   ]
  },
  {
   "cell_type": "code",
   "execution_count": 8,
   "metadata": {},
   "outputs": [
    {
     "name": "stdout",
     "output_type": "stream",
     "text": [
      "Observation: [-0.00171498  0.15747673  0.04488407 -0.27134905]\n",
      "Reward: 1.0\n",
      "Done: False\n",
      "Info: {}\n"
     ]
    }
   ],
   "source": [
    "# Make an action!\n",
    "action = env.action_space.sample() # or 0, 1\n",
    "observation, reward, done, info = env.step(action)\n",
    "print('Observation:', observation)\n",
    "print('Reward:', reward)\n",
    "print('Done:', done)\n",
    "print('Info:', info)"
   ]
  },
  {
   "cell_type": "code",
   "execution_count": 9,
   "metadata": {},
   "outputs": [
    {
     "name": "stdout",
     "output_type": "stream",
     "text": [
      "It took 10 steps to fall down!\n"
     ]
    }
   ],
   "source": [
    "# Keep moving the pole until it falls over\n",
    "# The goal is to keep it up for as many steps as possible!\n",
    "env.reset()\n",
    "counter = 0\n",
    "done = False\n",
    "while not done:\n",
    "    observation, reward, done, _ = env.step(env.action_space.sample())\n",
    "    counter += 1\n",
    "print('It took {} steps to fall down!'.format(counter))"
   ]
  },
  {
   "cell_type": "markdown",
   "metadata": {},
   "source": [
    "### Random search for linear model parameters"
   ]
  },
  {
   "cell_type": "code",
   "execution_count": 10,
   "metadata": {
    "collapsed": true
   },
   "outputs": [],
   "source": [
    "def model(state, w):\n",
    "    return state.dot(w)\n",
    "\n",
    "def action_from_model(state, w):\n",
    "    m = model(state,w)\n",
    "    if m < 0:\n",
    "        return 0\n",
    "    else:\n",
    "        return 1"
   ]
  },
  {
   "cell_type": "code",
   "execution_count": 11,
   "metadata": {
    "collapsed": true
   },
   "outputs": [],
   "source": [
    "def play_episode(env, w):\n",
    "    observation = env.reset()\n",
    "    t = 0\n",
    "    done = False\n",
    "    while not done and t < 1e6: # set a maximum in case\n",
    "        action = action_from_model(observation, w)\n",
    "        observation, reward, done, _ = env.step(action)\n",
    "        t += 1\n",
    "    return t"
   ]
  },
  {
   "cell_type": "code",
   "execution_count": 12,
   "metadata": {
    "collapsed": true
   },
   "outputs": [],
   "source": [
    "def play_many_episodes(env, w, epochs):\n",
    "    avg_steps = 0\n",
    "    for i in range(epochs):\n",
    "        steps = play_episode(env, w)\n",
    "        avg_steps = (avg_steps * i + steps) / (i+1)\n",
    "    return avg_steps"
   ]
  },
  {
   "cell_type": "code",
   "execution_count": 13,
   "metadata": {
    "collapsed": true
   },
   "outputs": [],
   "source": [
    "env = gym.make('CartPole-v0')\n",
    "\n",
    "best_weights = None\n",
    "best_avg_steps = 0\n",
    "steps_list = []\n",
    "for i in range(100):\n",
    "    # random search parameters\n",
    "    w = np.random.random(4)*2 - 1 # values -1,1 centred on 0\n",
    "    # test each w 100 times\n",
    "    avg_steps = play_many_episodes(env, w, 100)\n",
    "    steps_list.append(avg_steps)\n",
    "    \n",
    "    if avg_steps > best_avg_steps:\n",
    "        best_avg_steps = avg_steps\n",
    "        best_weights = w"
   ]
  },
  {
   "cell_type": "code",
   "execution_count": 14,
   "metadata": {},
   "outputs": [
    {
     "name": "stdout",
     "output_type": "stream",
     "text": [
      "200.0\n"
     ]
    }
   ],
   "source": [
    "print(best_avg_steps)"
   ]
  },
  {
   "cell_type": "code",
   "execution_count": 15,
   "metadata": {},
   "outputs": [
    {
     "data": {
      "text/plain": [
       "200.0"
      ]
     },
     "execution_count": 15,
     "metadata": {},
     "output_type": "execute_result"
    }
   ],
   "source": [
    "play_many_episodes(env, best_weights, 100)"
   ]
  },
  {
   "cell_type": "markdown",
   "metadata": {},
   "source": [
    "Note that there is a hard coded maximum of 200 steps allowed! This triggers the done flag."
   ]
  },
  {
   "cell_type": "code",
   "execution_count": 16,
   "metadata": {},
   "outputs": [
    {
     "data": {
      "text/plain": [
       "[<matplotlib.lines.Line2D at 0x1066b3588>]"
      ]
     },
     "execution_count": 16,
     "metadata": {},
     "output_type": "execute_result"
    },
    {
     "data": {
      "image/png": "[encoded data removed]",
      "text/plain": [
       "<matplotlib.figure.Figure at 0x10662a588>"
      ]
     },
     "metadata": {},
     "output_type": "display_data"
    }
   ],
   "source": [
    "plt.plot(steps_list)"
   ]
  },
  {
   "cell_type": "markdown",
   "metadata": {},
   "source": [
    "## Saving a video of the agent"
   ]
  },
  {
   "cell_type": "markdown",
   "metadata": {},
   "source": [
    "(Note this is a little buggy in the notebook)"
   ]
  },
  {
   "cell_type": "code",
   "execution_count": 17,
   "metadata": {},
   "outputs": [],
   "source": [
    "# from gym import wrappers\n",
    "\n",
    "# env_mon = wrappers.Monitor(env, \n",
    "#                        'my_folder', # directory to save video in\n",
    "#                        force=True # clear the past files in directory\n",
    "#                       )\n",
    "# # print(play_episode(env_mon, best_weights))\n",
    "# print(play_episode(env_mon, w))"
   ]
  },
  {
   "cell_type": "markdown",
   "metadata": {
    "collapsed": true
   },
   "source": [
    "---"
   ]
  },
  {
   "cell_type": "markdown",
   "metadata": {},
   "source": [
    "### Binned problem\n",
    "\n",
    "Convert continuous states to binned"
   ]
  },
  {
   "cell_type": "code",
   "execution_count": 18,
   "metadata": {},
   "outputs": [
    {
     "data": {
      "image/png": "[encoded data removed]",
      "text/plain": [
       "<matplotlib.figure.Figure at 0x106653080>"
      ]
     },
     "metadata": {},
     "output_type": "display_data"
    }
   ],
   "source": [
    "samples = 1000\n",
    "X = np.zeros((samples,4))\n",
    "for i in range(samples):\n",
    "    x = env.observation_space.sample()\n",
    "    X[i] = x\n",
    "\n",
    "fig, axarr = plt.subplots(1,4, figsize=(9,3))\n",
    "axarr[0].hist(X[:,0])\n",
    "axarr[1].hist(X[:,1])\n",
    "axarr[2].hist(X[:,2])\n",
    "axarr[3].hist(X[:,3])\n",
    "plt.tight_layout()\n",
    "plt.show()"
   ]
  },
  {
   "cell_type": "code",
   "execution_count": 19,
   "metadata": {
    "collapsed": true
   },
   "outputs": [],
   "source": [
    "import os\n",
    "import sys\n",
    "import pandas as pd \n",
    "from datetime import datetime"
   ]
  },
  {
   "cell_type": "code",
   "execution_count": 27,
   "metadata": {
    "collapsed": true
   },
   "outputs": [],
   "source": [
    "class FeatureTransformer:\n",
    "    \n",
    "    def __init__(self):\n",
    "        # transform one data point at a time\n",
    "        nbins = 10\n",
    "        self.cart_position_bins = np.linspace(-2.4, 2.4, nbins-1)\n",
    "        self.cart_velocity_bins = np.linspace(-2, 2, nbins-1)\n",
    "        self.pole_angle_bins    = np.linspace(-0.4, 0.4, nbins-1)\n",
    "        self.pole_velocity_bins = np.linspace(-3.5, 3.5, nbins-1)\n",
    "        self.all_bins = [self.cart_position_bins, \n",
    "                         self.cart_velocity_bins,\n",
    "                         self.pole_angle_bins,\n",
    "                         self.pole_velocity_bins]\n",
    "        self.nbins = nbins\n",
    "        \n",
    "    def _build_state(self, features):\n",
    "        return int(''.join(map(str, features)))\n",
    "\n",
    "    def _to_bin(self, value, bins):\n",
    "        return np.digitize(value, bins)\n",
    "    \n",
    "    def transform(self, observation):\n",
    "        return self._build_state([self._to_bin(obs, bins)\n",
    "                for obs, bins in zip(observation, self.all_bins)\n",
    "               ])\n"
   ]
  },
  {
   "cell_type": "code",
   "execution_count": 28,
   "metadata": {
    "collapsed": true
   },
   "outputs": [],
   "source": [
    "class Model:\n",
    "    \n",
    "    def __init__(self, env, feature_transformer):\n",
    "        self.env = env\n",
    "        self.ft = feature_transformer\n",
    "        \n",
    "        num_states = ft.nbins**env.observation_space.shape[0]\n",
    "        num_actions = env.action_space.n\n",
    "        self.Q = np.random.uniform(\n",
    "            low=-1, \n",
    "            high=1, \n",
    "            size=(num_states, num_actions)\n",
    "        )\n",
    "        \n",
    "    def predict(self, obs):\n",
    "        s = self.ft.transform(obs)\n",
    "        # return array Q(s,a) over all actions for given s\n",
    "        return self.Q[s]\n",
    "    \n",
    "    def update(self, s, a, G):\n",
    "        # update Q using gradient descent\n",
    "        # G = target return\n",
    "        x = self.ft.transform(s)\n",
    "        self.Q[x,a] += 1e-3*(G - self.Q[x,a])\n",
    "        \n",
    "    def sample_action(self, obs, eps):\n",
    "        # epsilon-greedy\n",
    "        if np.random.random() < eps:\n",
    "            return int(self.env.action_space.sample())\n",
    "        else:\n",
    "            q = self.predict(obs)\n",
    "            return int(np.argmax(q))"
   ]
  },
  {
   "cell_type": "code",
   "execution_count": 22,
   "metadata": {
    "collapsed": true
   },
   "outputs": [],
   "source": [
    "def play_one(model, eps, gamma):\n",
    "    observation = model.env.reset()\n",
    "    done = False\n",
    "    t = 0\n",
    "    total_reward = 0\n",
    "    while not done: \n",
    "        last_observation = observation\n",
    "        action = model.sample_action(observation, eps)\n",
    "        observation, reward, done, _ = env.step(action)\n",
    "        total_reward += reward\n",
    "        \n",
    "        # if fell over before getting to max 200 steps\n",
    "        if done and t < 199:\n",
    "            reward = -300\n",
    "        \n",
    "        # Q learning equation\n",
    "        G = reward + gamma * np.max(model.predict(observation))\n",
    "        model.update(last_observation, action, G)\n",
    "        t += 1\n",
    "        \n",
    "    return total_reward"
   ]
  },
  {
   "cell_type": "code",
   "execution_count": 186,
   "metadata": {
    "collapsed": true
   },
   "outputs": [],
   "source": [
    "def plot_running_avg(totalrewards):\n",
    "    N = len(totalrewards)\n",
    "    running_avg = np.empty(N)\n",
    "    for i in range(N):\n",
    "        running_avg[i] = totalrewards[max(0,i-100):i+1].mean()\n",
    "    plt.plot(running_avg)\n",
    "#     plt.show()"
   ]
  },
  {
   "cell_type": "code",
   "execution_count": null,
   "metadata": {},
   "outputs": [],
   "source": [
    "env = gym.make('CartPole-v0')\n",
    "ft = FeatureTransformer()\n",
    "model = Model(env,ft)\n",
    "gamma = 0.9\n",
    "N = 10000\n",
    "totalrewards = np.empty(N)\n",
    "for n in range(N):\n",
    "    eps = 1.0 / np.sqrt(n+1)\n",
    "    totalrewards[n] = play_one(model, eps, gamma)\n",
    "    if n % 1000 == 0:\n",
    "        print(n, totalrewards[max(0,n-100):n+1].mean())\n",
    "\n",
    "plot_running_avg(totalrewards)"
   ]
  },
  {
   "cell_type": "markdown",
   "metadata": {
    "collapsed": true
   },
   "source": [
    "### Using RBF kernels\n",
    "\n",
    "Now transform featuers using RBF kernels and fit the features using a linear model, using SGD to update at each step"
   ]
  },
  {
   "cell_type": "code",
   "execution_count": 67,
   "metadata": {
    "collapsed": true
   },
   "outputs": [],
   "source": [
    "from sklearn.kernel_approximation import RBFSampler\n",
    "from sklearn.pipeline import FeatureUnion\n",
    "from sklearn.preprocessing import StandardScaler\n",
    "from sklearn.linear_model import SGDRegressor"
   ]
  },
  {
   "cell_type": "code",
   "execution_count": 63,
   "metadata": {
    "collapsed": true
   },
   "outputs": [],
   "source": [
    "# we need to get data to fit the RBFSampler so do this by \n",
    "# generating many observation states to understand the \n",
    "# distribution. (observation_space.sample does it uniformly)\n",
    "def play_episode(env, w):\n",
    "    observations = []\n",
    "    rewards = []\n",
    "    observation = env.reset()\n",
    "    t = 0\n",
    "    done = False\n",
    "    while not done and t < 1e6: # set a maximum in case\n",
    "        action = env.action_space.sample()\n",
    "        observation, reward, done, _ = env.step(action)\n",
    "        t += 1\n",
    "        observations.append(observation)\n",
    "        rewards.append(reward)\n",
    "    return np.array(observations), np.array(rewards)"
   ]
  },
  {
   "cell_type": "code",
   "execution_count": 64,
   "metadata": {},
   "outputs": [],
   "source": [
    "def get_observation_examples(env):\n",
    "    observations_all = []\n",
    "    for i in range(1000):\n",
    "        w = np.random.random(4)\n",
    "        observations_per_episode, _ = play_episode(env, w)\n",
    "        observations_all.append(observations_per_episode)\n",
    "    return np.concatenate(observations_all)"
   ]
  },
  {
   "cell_type": "code",
   "execution_count": 65,
   "metadata": {},
   "outputs": [
    {
     "data": {
      "text/plain": [
       "(21882, 4)"
      ]
     },
     "execution_count": 65,
     "metadata": {},
     "output_type": "execute_result"
    }
   ],
   "source": [
    "observation_examples = get_observation_examples(env)\n",
    "observation_examples.shape"
   ]
  },
  {
   "cell_type": "code",
   "execution_count": 72,
   "metadata": {},
   "outputs": [],
   "source": [
    "class Transformer:\n",
    "    \n",
    "    def __init__(self):\n",
    "        self.scaler = StandardScaler()\n",
    "        rbf_gammas = [0.01, 0.1, 0.5, 1.0]\n",
    "        rbf_samplers = [RBFSampler(gamma=g, n_components=1000, random_state=42) for g in rbf_gammas]\n",
    "        self.featurizer = FeatureUnion([(\"rbf{}\".format(i), rbf_samplers[i]) for i in range(4)])\n",
    "\n",
    "    def fit(self, observation_examples):\n",
    "        self.scaler.fit(observation_examples)\n",
    "        self.featurizer.fit(self.scaler.transform(observation_examples))\n",
    "        \n",
    "    def transform(self, observations):\n",
    "        scaled = self.scaler.transform(observations)\n",
    "        return self.featurizer.transform(scaled)\n"
   ]
  },
  {
   "cell_type": "code",
   "execution_count": 76,
   "metadata": {},
   "outputs": [
    {
     "name": "stdout",
     "output_type": "stream",
     "text": [
      "4000\n"
     ]
    }
   ],
   "source": [
    "ft = Transformer()\n",
    "ft.fit(observation_examples)\n",
    "nfeatures = ft.transform(observation_examples[:1]).shape[1]\n",
    "print(nfeatures)"
   ]
  },
  {
   "cell_type": "code",
   "execution_count": 172,
   "metadata": {
    "collapsed": true
   },
   "outputs": [],
   "source": [
    "# Here we have a model for each action (0 or 1) given state s\n",
    "class Model:\n",
    "    def __init__(self, label, env, learning_rate, transformer):\n",
    "        self.label = label  # action label\n",
    "        self.env = env\n",
    "        self.sgd = SGDRegressor(learning_rate=learning_rate)\n",
    "        self.ft = transformer\n",
    "        # do a dummy fit so we can call predict\n",
    "        self.sgd.partial_fit(self.ft.transform([env.reset()]), [0])\n",
    "        \n",
    "    def predict(self, s):\n",
    "        x = self.ft.transform([s])\n",
    "        return self.sgd.predict(x)\n",
    "    \n",
    "    def update(self, s, G):\n",
    "        x = self.ft.transform([s])\n",
    "        # here we want to update the weights of the linear model\n",
    "        self.sgd.partial_fit(x, [G])\n",
    "        \n",
    "def sample_action(models, env, s, eps):\n",
    "    if np.random.random() < eps:\n",
    "        return env.action_space.sample()\n",
    "    else:\n",
    "        return best_action(models, s)\n",
    "\n",
    "def best_action(models, s):\n",
    "    q = [m.predict(s)[0] for m in models]\n",
    "    return np.argmax(q)\n",
    "\n",
    "def best_action_value(models, s):\n",
    "    q = [m.predict(s)[0] for m in models]\n",
    "    return np.max(q)"
   ]
  },
  {
   "cell_type": "code",
   "execution_count": 178,
   "metadata": {
    "collapsed": true
   },
   "outputs": [],
   "source": [
    "def play_one_episode(models, env, eps, gamma):\n",
    "    s = env.reset()\n",
    "    t = 0\n",
    "    done = False\n",
    "    totalreward = 0\n",
    "    while not done and t < 200: \n",
    "        action = sample_action(models, env, s, eps)\n",
    "        next_s, reward, done, _ = env.step(action)\n",
    "        \n",
    "        # if didn't reach the maximum of 200 penalise\n",
    "        if done and t < 199:\n",
    "            reward = -200\n",
    "\n",
    "        # now get Q(s', a') using Q learning\n",
    "        Q = best_action_value(models, next_s)\n",
    "        G = reward + gamma * Q\n",
    "        models[action].update(s, G)\n",
    "        \n",
    "        s = next_s\n",
    "        t += 1\n",
    "        totalreward += reward\n",
    "        \n",
    "    return t"
   ]
  },
  {
   "cell_type": "code",
   "execution_count": 182,
   "metadata": {},
   "outputs": [],
   "source": [
    "learning_rate = 'constant'\n",
    "eps = 0.1\n",
    "gamma = 0.99\n",
    "\n",
    "models = []\n",
    "for a in range(env.action_space.n):\n",
    "    models.append(Model(a, env, learning_rate, ft))\n",
    "\n",
    "max_steps = []\n",
    "for i in range(200):\n",
    "    eps = 1.0 / np.sqrt(i+1)\n",
    "    max_step = play_one_episode(models, env, eps, gamma)\n",
    "    max_steps.append(max_step)\n",
    "    \n",
    "# plot_running_avg(np.array(max_steps))"
   ]
  },
  {
   "cell_type": "code",
   "execution_count": 187,
   "metadata": {},
   "outputs": [
    {
     "data": {
      "image/png": "[encoded data removed]",
      "text/plain": [
       "<matplotlib.figure.Figure at 0x10b794ba8>"
      ]
     },
     "metadata": {},
     "output_type": "display_data"
    }
   ],
   "source": [
    "plot_running_avg(np.array(max_steps))\n",
    "plt.title('Running average of number of steps before pole falls')\n",
    "plt.show()"
   ]
  },
  {
   "cell_type": "code",
   "execution_count": null,
   "metadata": {
    "collapsed": true
   },
   "outputs": [],
   "source": []
  }
 ],
 "metadata": {
  "kernelspec": {
   "display_name": "rl",
   "language": "python",
   "name": "rl"
  },
  "language_info": {
   "codemirror_mode": {
    "name": "ipython",
    "version": 3
   },
   "file_extension": ".py",
   "mimetype": "text/x-python",
   "name": "python",
   "nbconvert_exporter": "python",
   "pygments_lexer": "ipython3",
   "version": "3.6.1"
  }
 },
 "nbformat": 4,
 "nbformat_minor": 2
}
