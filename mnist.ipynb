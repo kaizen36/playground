{
 "cells": [
  {
   "cell_type": "markdown",
   "metadata": {},
   "source": [
    "# mnist dataset"
   ]
  },
  {
   "cell_type": "code",
   "execution_count": null,
   "metadata": {
    "collapsed": true
   },
   "outputs": [],
   "source": [
    "from mnist import get_data, logistic_fit, logistic_fit_pca\n",
    "from image_util import show_image\n",
    "from util import pca_find_n_components, pca_transform\n",
    "from sklearn.model_selection import train_test_split\n",
    "import matplotlib.pyplot as plt\n",
    "from ann import ANN\n",
    "%matplotlib inline"
   ]
  },
  {
   "cell_type": "code",
   "execution_count": 5,
   "metadata": {
    "collapsed": true
   },
   "outputs": [],
   "source": [
    "X, Y = get_data()"
   ]
  },
  {
   "cell_type": "code",
   "execution_count": 9,
   "metadata": {},
   "outputs": [
    {
     "data": {
      "image/png": "[encoded data removed]",
      "text/plain": [
       "<matplotlib.figure.Figure at 0x109dc45f8>"
      ]
     },
     "metadata": {},
     "output_type": "display_data"
    }
   ],
   "source": [
    "i = 25\n",
    "show_image(X[i], label=str(Y[i]))"
   ]
  },
  {
   "cell_type": "code",
   "execution_count": 12,
   "metadata": {},
   "outputs": [],
   "source": [
    "Xtrain, Xtest, Ytrain, Ytest = train_test_split(X, Y, test_size=0.1, random_state=42)"
   ]
  },
  {
   "cell_type": "markdown",
   "metadata": {},
   "source": [
    "Train with Logistic model"
   ]
  },
  {
   "cell_type": "code",
   "execution_count": null,
   "metadata": {},
   "outputs": [
    {
     "name": "stdout",
     "output_type": "stream",
     "text": [
      "0 Classification rate (train): 0.0775661375661\n",
      "0 Classification rate (test): 0.082619047619\n",
      "100 Classification rate (train): 0.716507936508\n",
      "100 Classification rate (test): 0.712142857143\n",
      "200 Classification rate (train): 0.79208994709\n",
      "200 Classification rate (test): 0.792380952381\n",
      "300 Classification rate (train): 0.820079365079\n",
      "300 Classification rate (test): 0.821904761905\n",
      "400 Classification rate (train): 0.83753968254\n",
      "400 Classification rate (test): 0.836904761905\n",
      "500 Classification rate (train): 0.848121693122\n",
      "500 Classification rate (test): 0.844523809524\n",
      "600 Classification rate (train): 0.85544973545\n",
      "600 Classification rate (test): 0.851666666667\n",
      "700 Classification rate (train): 0.861243386243\n",
      "700 Classification rate (test): 0.854523809524\n",
      "800 Classification rate (train): 0.866137566138\n",
      "800 Classification rate (test): 0.860476190476\n"
     ]
    }
   ],
   "source": [
    "logistic_fit(Xtrain, Xtest, Ytrain, Ytest, nepochs=1000)"
   ]
  },
  {
   "cell_type": "markdown",
   "metadata": {},
   "source": [
    "Perform PCA and train with logistic model"
   ]
  },
  {
   "cell_type": "code",
   "execution_count": null,
   "metadata": {
    "collapsed": true
   },
   "outputs": [],
   "source": [
    "npca = pca_find_n_components(X)\n",
    "print('Number principle components:', npca)\n",
    "logistic_fit_pca(Xtrain, Xtest, Ytrain, Ytest, npca, nepochs=1000)"
   ]
  },
  {
   "cell_type": "markdown",
   "metadata": {},
   "source": [
    "Train with ANN"
   ]
  },
  {
   "cell_type": "code",
   "execution_count": null,
   "metadata": {
    "collapsed": true
   },
   "outputs": [],
   "source": [
    "model = ANN()"
   ]
  }
 ],
 "metadata": {
  "kernelspec": {
   "display_name": "Python 3",
   "language": "python",
   "name": "python3"
  },
  "language_info": {
   "codemirror_mode": {
    "name": "ipython",
    "version": 3
   },
   "file_extension": ".py",
   "mimetype": "text/x-python",
   "name": "python",
   "nbconvert_exporter": "python",
   "pygments_lexer": "ipython3",
   "version": "3.6.1"
  }
 },
 "nbformat": 4,
 "nbformat_minor": 2
}
