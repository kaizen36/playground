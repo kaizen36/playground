{
 "cells": [
  {
   "cell_type": "markdown",
   "metadata": {},
   "source": [
    "# theano 101"
   ]
  },
  {
   "cell_type": "code",
   "execution_count": 1,
   "metadata": {
    "collapsed": true
   },
   "outputs": [],
   "source": [
    "import theano\n",
    "import theano.tensor as T\n",
    "import numpy as np"
   ]
  },
  {
   "cell_type": "markdown",
   "metadata": {},
   "source": [
    "We start be creating some different variables"
   ]
  },
  {
   "cell_type": "code",
   "execution_count": 2,
   "metadata": {
    "collapsed": true
   },
   "outputs": [],
   "source": [
    "c = T.scalar('c') # rank 0\n",
    "v = T.vector('v') # rank 1\n",
    "M = T.matrix('M') # rank 2"
   ]
  },
  {
   "cell_type": "markdown",
   "metadata": {},
   "source": [
    "There are also rank higher objects tensors\n",
    "* e.g. 2D picture with values 0..255 is rank 3\n",
    "* e.g. 2D picture with RGB colours is rank 2+3 = 5\n"
   ]
  },
  {
   "cell_type": "markdown",
   "metadata": {},
   "source": [
    "In order to perform operations you need to make a theano.function that links the variables into a graph"
   ]
  },
  {
   "cell_type": "code",
   "execution_count": 3,
   "metadata": {
    "collapsed": true
   },
   "outputs": [],
   "source": [
    "w = M.dot(v)\n",
    "matrix_times_vector = theano.function(inputs=[M, v], outputs=M.dot(v))"
   ]
  },
  {
   "cell_type": "code",
   "execution_count": 4,
   "metadata": {},
   "outputs": [
    {
     "data": {
      "text/plain": [
       "array([ 7.,  9.])"
      ]
     },
     "execution_count": 4,
     "metadata": {},
     "output_type": "execute_result"
    }
   ],
   "source": [
    "M_val = np.array([[0,1],[1,0]])\n",
    "v_val = np.array([9,7])\n",
    "matrix_times_vector(M_val, v_val)"
   ]
  },
  {
   "cell_type": "markdown",
   "metadata": {},
   "source": [
    "In theano the values of these variables can't be updated. This isn't very useful for gradient descent where we would like to update our weights. In order to do this we need to make a \"shared\" variable"
   ]
  },
  {
   "cell_type": "code",
   "execution_count": 5,
   "metadata": {
    "collapsed": true
   },
   "outputs": [],
   "source": [
    "x = theano.shared(20.0, # initial value\n",
    "                  'x' # name\n",
    "                 )"
   ]
  },
  {
   "cell_type": "markdown",
   "metadata": {},
   "source": [
    "We can define a cost function and theano will work out the gradient!"
   ]
  },
  {
   "cell_type": "code",
   "execution_count": 6,
   "metadata": {
    "collapsed": true
   },
   "outputs": [],
   "source": [
    "cost = x*x + 4*x + 4\n",
    "x_update = x - 0.3*T.grad(cost, x) # 2nd arg means take deriv wrt x "
   ]
  },
  {
   "cell_type": "markdown",
   "metadata": {},
   "source": [
    "We now define a training function. Typically:\n",
    "* inputs: data \n",
    "* outputs: cost function (optional)\n",
    "* updates: list of tuples [(theano.shared to update, theano.function to update) for each model parameter]"
   ]
  },
  {
   "cell_type": "code",
   "execution_count": 7,
   "metadata": {
    "collapsed": true
   },
   "outputs": [],
   "source": [
    "train = theano.function(inputs=[], outputs=cost, updates=[(x, x_update)])"
   ]
  },
  {
   "cell_type": "code",
   "execution_count": 8,
   "metadata": {},
   "outputs": [
    {
     "name": "stdout",
     "output_type": "stream",
     "text": [
      "Iteration=0, Cost=484.0\n",
      "Iteration=1, Cost=77.44000000000001\n",
      "Iteration=2, Cost=12.390400000000003\n",
      "Iteration=3, Cost=1.9824640000000011\n",
      "Iteration=4, Cost=0.31719424000000007\n",
      "Iteration=5, Cost=0.05075107840000026\n",
      "Iteration=6, Cost=0.008120172544000326\n",
      "Iteration=7, Cost=0.0012992276070402653\n",
      "Iteration=8, Cost=0.00020787641712693983\n",
      "Iteration=9, Cost=3.3260226740772225e-05\n",
      "Iteration=10, Cost=5.321636278310393e-06\n",
      "Iteration=11, Cost=8.514618041743915e-07\n",
      "Iteration=12, Cost=1.3623388817052273e-07\n",
      "Iteration=13, Cost=2.179742253360928e-08\n",
      "Iteration=14, Cost=3.4875879961759892e-09\n",
      "Iteration=15, Cost=5.580140793881583e-10\n",
      "Iteration=16, Cost=8.928235928351569e-11\n",
      "Iteration=17, Cost=1.4285461702456814e-11\n",
      "Iteration=18, Cost=2.2861712523081223e-12\n",
      "Iteration=19, Cost=3.659295089164516e-13\n",
      "Iteration=20, Cost=5.861977570020827e-14\n",
      "Iteration=21, Cost=8.881784197001252e-15\n",
      "Iteration=22, Cost=1.7763568394002505e-15\n",
      "Iteration=23, Cost=8.881784197001252e-16\n",
      "Iteration=24, Cost=0.0\n"
     ]
    }
   ],
   "source": [
    "for i in range(25):\n",
    "    cost_val = train()\n",
    "    print('Iteration={}, Cost={}'.format(i,cost_val))"
   ]
  },
  {
   "cell_type": "code",
   "execution_count": 9,
   "metadata": {},
   "outputs": [
    {
     "name": "stdout",
     "output_type": "stream",
     "text": [
      "After 25 iterations the value of x is: -1.99999999752302\n"
     ]
    }
   ],
   "source": [
    "print('After 25 iterations the value of x is:', x.get_value())"
   ]
  }
 ],
 "metadata": {
  "kernelspec": {
   "display_name": "Python 3",
   "language": "python",
   "name": "python3"
  },
  "language_info": {
   "codemirror_mode": {
    "name": "ipython",
    "version": 3
   },
   "file_extension": ".py",
   "mimetype": "text/x-python",
   "name": "python",
   "nbconvert_exporter": "python",
   "pygments_lexer": "ipython3",
   "version": "3.6.1"
  }
 },
 "nbformat": 4,
 "nbformat_minor": 2
}
