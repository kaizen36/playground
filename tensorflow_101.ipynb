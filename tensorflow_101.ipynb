{
 "cells": [
  {
   "cell_type": "markdown",
   "metadata": {},
   "source": [
    "# tensorflow 101"
   ]
  },
  {
   "cell_type": "code",
   "execution_count": 1,
   "metadata": {
    "collapsed": true
   },
   "outputs": [],
   "source": [
    "import tensorflow as tf\n",
    "import numpy as np"
   ]
  },
  {
   "cell_type": "markdown",
   "metadata": {},
   "source": [
    "Create `tf.placeholder` objects - these will hold data"
   ]
  },
  {
   "cell_type": "code",
   "execution_count": 2,
   "metadata": {},
   "outputs": [
    {
     "data": {
      "text/plain": [
       "(TensorShape([Dimension(2), Dimension(2)]), 'A:0')"
      ]
     },
     "execution_count": 2,
     "metadata": {},
     "output_type": "execute_result"
    }
   ],
   "source": [
    "A = tf.placeholder(tf.float32, \n",
    "                  shape=(2,2),\n",
    "                  name='A')\n",
    "A.shape, A.name"
   ]
  },
  {
   "cell_type": "code",
   "execution_count": 3,
   "metadata": {},
   "outputs": [
    {
     "data": {
      "text/plain": [
       "(TensorShape(None), 'Placeholder:0')"
      ]
     },
     "execution_count": 3,
     "metadata": {},
     "output_type": "execute_result"
    }
   ],
   "source": [
    "v = tf.placeholder(tf.float32)\n",
    "v.shape, v.name"
   ]
  },
  {
   "cell_type": "code",
   "execution_count": 4,
   "metadata": {},
   "outputs": [
    {
     "data": {
      "text/plain": [
       "<tf.Tensor 'MatMul:0' shape=(2, ?) dtype=float32>"
      ]
     },
     "execution_count": 4,
     "metadata": {},
     "output_type": "execute_result"
    }
   ],
   "source": [
    "w = tf.matmul(A, v)\n",
    "w"
   ]
  },
  {
   "cell_type": "markdown",
   "metadata": {},
   "source": [
    "All of the work happens in a \"session\", including feeding the variables values"
   ]
  },
  {
   "cell_type": "code",
   "execution_count": 11,
   "metadata": {},
   "outputs": [
    {
     "data": {
      "text/plain": [
       "((2,), (2, 1))"
      ]
     },
     "execution_count": 11,
     "metadata": {},
     "output_type": "execute_result"
    }
   ],
   "source": [
    "v_val = np.array([7, 9])\n",
    "v_val.shape, v_val[:, np.newaxis].shape"
   ]
  },
  {
   "cell_type": "markdown",
   "metadata": {},
   "source": [
    "Because TF does real matrix multiplication the dimensions of v must be right. Numpy normally takes care of that."
   ]
  },
  {
   "cell_type": "code",
   "execution_count": 35,
   "metadata": {},
   "outputs": [
    {
     "name": "stdout",
     "output_type": "stream",
     "text": [
      "[7 9]\n",
      "[[7]\n",
      " [9]]\n"
     ]
    }
   ],
   "source": [
    "A_val = np.array([[0, 1], [1, 0]])\n",
    "v_val = np.array([7,9])\n",
    "print(v_val)\n",
    "v_val = v_val[:, np.newaxis]\n",
    "print(v_val)"
   ]
  },
  {
   "cell_type": "code",
   "execution_count": 12,
   "metadata": {},
   "outputs": [
    {
     "name": "stdout",
     "output_type": "stream",
     "text": [
      "[[ 9.]\n",
      " [ 7.]] <class 'numpy.ndarray'>\n"
     ]
    }
   ],
   "source": [
    "with tf.Session() as session:\n",
    "    output = session.run(w, feed_dict={A: A_val, v: v_val})\n",
    "    print(output, type(output))"
   ]
  },
  {
   "cell_type": "markdown",
   "metadata": {},
   "source": [
    "The update parameters are declared with objects of type `tf.Variable`. These have an initial value and must be initialised. (`global_variables_initializer` return object `init` which is called during the session) "
   ]
  },
  {
   "cell_type": "code",
   "execution_count": 37,
   "metadata": {
    "collapsed": true
   },
   "outputs": [],
   "source": [
    "x = tf.Variable(tf.random_normal((3,3)))\n",
    "t = tf.Variable(0)"
   ]
  },
  {
   "cell_type": "code",
   "execution_count": 42,
   "metadata": {},
   "outputs": [
    {
     "name": "stdout",
     "output_type": "stream",
     "text": [
      "0 None\n",
      "x=[[ 0.18194143  0.08420689 -0.08919143]\n",
      " [ 0.53497124  0.71285301  1.52758944]\n",
      " [-0.77104366  0.46912023 -1.05669296]]\n",
      "t=0\n",
      "1 None\n",
      "x=[[  6.79584265e-01  -2.87745327e-01   5.15237212e-01]\n",
      " [  2.69078702e-01   1.91260493e-04   1.69554815e-01]\n",
      " [ -1.31525218e+00   1.99083865e-01   1.11669995e-01]]\n",
      "t=0\n",
      "2 None\n",
      "x=[[-1.30924523  0.91284472 -1.15417194]\n",
      " [-1.08578694 -0.86057609 -0.82481891]\n",
      " [ 0.0456745  -0.84932929 -0.16622588]]\n",
      "t=0\n",
      "3 None\n",
      "x=[[ 0.56091011  2.50249267  0.56520599]\n",
      " [-0.31054732 -0.89017075  0.68200004]\n",
      " [-0.6025601  -1.77790916 -0.36598784]]\n",
      "t=0\n",
      "4 None\n",
      "x=[[-0.68452376  0.70998955 -0.5109849 ]\n",
      " [-1.49396873 -0.45116776 -0.60409343]\n",
      " [ 0.81177384  1.26929975 -0.65172076]]\n",
      "t=0\n"
     ]
    }
   ],
   "source": [
    "init = tf.global_variables_initializer()\n",
    "for i in range(5):\n",
    "    with tf.Session() as session:\n",
    "        output = session.run(init)\n",
    "        print(i, output)\n",
    "        print('x={}\\nt={}'.format(x.eval(), t.eval()))"
   ]
  },
  {
   "cell_type": "markdown",
   "metadata": {},
   "source": [
    "A simple minimization example"
   ]
  },
  {
   "cell_type": "code",
   "execution_count": 44,
   "metadata": {
    "collapsed": true
   },
   "outputs": [],
   "source": [
    "u = tf.Variable(20.0)\n",
    "cost = u*u + 4*u + 4"
   ]
  },
  {
   "cell_type": "markdown",
   "metadata": {},
   "source": [
    "Instead of writing the update equations, choose an optimizer"
   ]
  },
  {
   "cell_type": "code",
   "execution_count": 45,
   "metadata": {
    "collapsed": true
   },
   "outputs": [],
   "source": [
    "learning_rate = 0.2\n",
    "train_op = tf.train.GradientDescentOptimizer(learning_rate).minimize(cost)"
   ]
  },
  {
   "cell_type": "code",
   "execution_count": 52,
   "metadata": {},
   "outputs": [
    {
     "name": "stdout",
     "output_type": "stream",
     "text": [
      "i: cost 174.2400, u 11.2000\n",
      "i: cost 62.7264, u 5.9200\n",
      "i: cost 22.5815, u 2.7520\n",
      "i: cost 8.1293, u 0.8512\n",
      "i: cost 2.9266, u -0.2893\n",
      "i: cost 1.0536, u -0.9736\n",
      "i: cost 0.3793, u -1.3841\n",
      "i: cost 0.1365, u -1.6305\n",
      "i: cost 0.0492, u -1.7783\n",
      "i: cost 0.0177, u -1.8670\n",
      "i: cost 0.0064, u -1.9202\n",
      "i: cost 0.0023, u -1.9521\n",
      "i: cost 0.0008, u -1.9713\n",
      "i: cost 0.0003, u -1.9828\n",
      "i: cost 0.0001, u -1.9897\n",
      "i: cost 0.0000, u -1.9938\n",
      "i: cost 0.0000, u -1.9963\n",
      "i: cost 0.0000, u -1.9978\n",
      "i: cost 0.0000, u -1.9987\n",
      "i: cost 0.0000, u -1.9992\n",
      "i: cost 0.0000, u -1.9995\n",
      "i: cost 0.0000, u -1.9997\n",
      "i: cost 0.0000, u -1.9998\n",
      "i: cost 0.0000, u -1.9999\n",
      "i: cost 0.0000, u -1.9999\n",
      "i: cost 0.0000, u -2.0000\n",
      "i: cost 0.0000, u -2.0000\n",
      "i: cost 0.0000, u -2.0000\n",
      "i: cost 0.0000, u -2.0000\n",
      "i: cost 0.0000, u -2.0000\n"
     ]
    }
   ],
   "source": [
    "init = tf.global_variables_initializer()\n",
    "with tf.Session() as session:\n",
    "    session.run(init)\n",
    "    for i in range(30):\n",
    "        session.run(train_op)\n",
    "        print('i: cost {:.4f}, u {:.4f}'.format(cost.eval(), u.eval()))"
   ]
  },
  {
   "cell_type": "code",
   "execution_count": null,
   "metadata": {
    "collapsed": true
   },
   "outputs": [],
   "source": []
  }
 ],
 "metadata": {
  "kernelspec": {
   "display_name": "Python 3",
   "language": "python",
   "name": "python3"
  },
  "language_info": {
   "codemirror_mode": {
    "name": "ipython",
    "version": 3
   },
   "file_extension": ".py",
   "mimetype": "text/x-python",
   "name": "python",
   "nbconvert_exporter": "python",
   "pygments_lexer": "ipython3",
   "version": "3.6.1"
  }
 },
 "nbformat": 4,
 "nbformat_minor": 2
}
